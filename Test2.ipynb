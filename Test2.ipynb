{
 "cells": [
  {
   "cell_type": "markdown",
   "metadata": {},
   "source": [
    "Operation Choices \n",
    "Write a function OperationChoices(c, a, b) which will accept three integers as an argument, and the function will return: \n",
    "(a + b) if the value of c=1. \n",
    "(a – b) if the value of c=2. \n",
    "(a * b) if the value of c=3. \n",
    "(a / b) if the value of c=4. \n",
    "Sample Test Case: \n",
    "Input: \n",
    "2 \n",
    "15 \n",
    "20 \n",
    "Output: \n",
    "-5"
   ]
  },
  {
   "cell_type": "code",
   "execution_count": 3,
   "metadata": {},
   "outputs": [
    {
     "name": "stdout",
     "output_type": "stream",
     "text": [
      "-5\n"
     ]
    }
   ],
   "source": [
    "def OperationChoices(c,a,b):\n",
    "    if c==1:\n",
    "        return a+b\n",
    "    elif c==2:\n",
    "        return a-b\n",
    "    elif c==3:\n",
    "        return a*b\n",
    "    elif c==4:\n",
    "        return a/b\n",
    "c = int(input())\n",
    "a = int(input())\n",
    "b = int(input())\n",
    "print(OperationChoices(c,a,b))"
   ]
  },
  {
   "cell_type": "markdown",
   "metadata": {},
   "source": [
    "Difference Of Sum \n",
    "Write a function differenceofSum(a,b) which will take two integers as an argument. You’ve to obtain the total of all the integers ranging from 1 to b (both inclusive) that are not divisible by a. You should also return the distinction between the sum of the integers which are not divisible by a with the sum of the integers divisible by a? \n",
    "Consider: a and b are greater than 0. i.e a>0 and b>0. And their sum should lies between the integral range. \n",
    "Sample Test Case 1: \n",
    "Input: \n",
    "a = 6 and b = 30 \n",
    "Output: \n",
    "285"
   ]
  },
  {
   "cell_type": "code",
   "execution_count": 4,
   "metadata": {},
   "outputs": [
    {
     "name": "stdout",
     "output_type": "stream",
     "text": [
      "285\n"
     ]
    }
   ],
   "source": [
    "def differenceofSum(a,b):\n",
    "    div=0\n",
    "    ndiv=0\n",
    "    for i in range(1,b+1):\n",
    "        if i%a==0:\n",
    "            div+=i\n",
    "        else:\n",
    "            ndiv+=i\n",
    "    return ndiv-div\n",
    "a=int(input())\n",
    "b=int(input())\n",
    "print(differenceofSum(a,b))"
   ]
  },
  {
   "cell_type": "markdown",
   "metadata": {},
   "source": [
    "Anagram Strings \n",
    "Write a function to check whether the given strings are anagrams or not. If the given strings are anagram then return‘yes’ otherwise return ‘no’? \n",
    "Sample Test Case 1: \n",
    "Input: \n",
    "1st: learn \n",
    "2nd: simple \n",
    "Output: \n",
    "no"
   ]
  },
  {
   "cell_type": "code",
   "execution_count": 5,
   "metadata": {},
   "outputs": [
    {
     "name": "stdout",
     "output_type": "stream",
     "text": [
      "no\n"
     ]
    }
   ],
   "source": [
    "def areAnagrams(str1,str2):\n",
    "    return sorted(str1.lower())==sorted(str2.lower())\n",
    "str1=input()\n",
    "str2=input()\n",
    "if areAnagrams(str1,str2):\n",
    "    print('yes')\n",
    "else:\n",
    "    print('no')"
   ]
  },
  {
   "cell_type": "markdown",
   "metadata": {},
   "source": [
    "Implement the following Function\n",
    "\n",
    "def ProductSmallestPair(sum, arr)\n",
    "\n",
    "The function accepts an integers sum and an integer array arr of size n. Implement the function to find the pair, (arr[j], arr[k]) where j!=k, Such that arr[j] and arr[k] are the least two elements of array (arr[j] + arr[k] <= sum) and return the product of element of this pair\n",
    "\n",
    "NOTE\n",
    "Return -1 if array is empty or if n<2\n",
    "Return 0, if no such pairs found\n",
    "All computed values lie within integer range\n",
    "\n",
    "Example\n",
    "Input\n",
    "sum:9\n",
    "size of Arr = 7\n",
    "Arr:5 2 4 3 9 7 1\n",
    "Output\n",
    "2\n",
    "\n",
    "Explanation\n",
    "Pair of least two element is (2, 1) 2 + 1 = 3 < 9, Product of (2, 1) 2*1 = 2. Thus, output is 2\n",
    "\n",
    "Sample Input\n",
    "sum:4\n",
    "size of Arr = 6\n",
    "Arr:9 8 3 -7 3 9\n",
    "Sample Output\n",
    "-21"
   ]
  },
  {
   "cell_type": "code",
   "execution_count": 6,
   "metadata": {},
   "outputs": [
    {
     "name": "stdout",
     "output_type": "stream",
     "text": [
      "-21\n"
     ]
    }
   ],
   "source": [
    "def ProductSmallestPair(sum,n,arr):\n",
    "    arr = sorted(arr)\n",
    "    if(n==0 or n<2):\n",
    "        return -1\n",
    "    elif(arr[0]+arr[1]<=sum):\n",
    "        return arr[0]*arr[1]\n",
    "    else:\n",
    "        return 0\n",
    "sum = int(input())\n",
    "n = int(input())\n",
    "arr = list(map(int,input().split()))\n",
    "print(ProductSmallestPair(sum,n,arr))"
   ]
  }
 ],
 "metadata": {
  "kernelspec": {
   "display_name": "Python 3",
   "language": "python",
   "name": "python3"
  },
  "language_info": {
   "codemirror_mode": {
    "name": "ipython",
    "version": 3
   },
   "file_extension": ".py",
   "mimetype": "text/x-python",
   "name": "python",
   "nbconvert_exporter": "python",
   "pygments_lexer": "ipython3",
   "version": "3.11.3"
  }
 },
 "nbformat": 4,
 "nbformat_minor": 2
}
