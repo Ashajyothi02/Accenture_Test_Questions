{
 "cells": [
  {
   "cell_type": "markdown",
   "metadata": {},
   "source": [
    "9. Replace Character \n",
    "Write a function Replacecharacter(Char str1, Char ch1, Int 1, Char ch2) which has a string(str) and the two characters ch1 and ch2. Execute a function in such a way that string str will return to its original string, and all the events in ch1 are replaced by ch2 and vice versa? \n",
    "Consider: The strings will have only alphabets in lower case. \n",
    "Sample Test Case: \n",
    "Input: \n",
    "str: tervpro \n",
    "ch1: e \n",
    "ch2: p \n",
    "Output: \n",
    "tprvero \n",
    "Solution: \n",
    "All the ‘e’s in the string are replaced with the ‘p’ and ‘p’ is replaced with the ‘e’."
   ]
  },
  {
   "cell_type": "code",
   "execution_count": 1,
   "metadata": {},
   "outputs": [
    {
     "name": "stdout",
     "output_type": "stream",
     "text": [
      "tprvero\n"
     ]
    }
   ],
   "source": [
    "def Replacecharacter(str,ch1,ch2):\n",
    "    temp = \" \"\n",
    "    str = str.replace(ch1,temp)\n",
    "    str = str.replace(ch2,ch1)\n",
    "    str = str.replace(temp,ch2)\n",
    "    return str\n",
    "str = input()\n",
    "ch1 = input()\n",
    "ch2 = input()\n",
    "print(Replacecharacter(str,ch1,ch2))"
   ]
  },
  {
   "cell_type": "markdown",
   "metadata": {},
   "source": [
    "10. Reverse a String \n",
    "Write a function that will accept strings from the user and will reverse the string word-wise. The last word will come as the first word in the output and vice versa? \n",
    "Sample Test Case 1: \n",
    "Input: \n",
    "terv pro \n",
    "Output: \n",
    "pro terv \n",
    "Explanation: \n",
    "The reverse string word-wise function is applied. \n",
    "Sample Test Case 2: \n",
    "Input: \n",
    "Welcome to Sunday samayal \n",
    "Output: \n",
    "samayal Sunday to Welcome"
   ]
  },
  {
   "cell_type": "code",
   "execution_count": 2,
   "metadata": {},
   "outputs": [
    {
     "name": "stdout",
     "output_type": "stream",
     "text": [
      "samayal Sunday to Welcome\n"
     ]
    }
   ],
   "source": [
    "def Reverseword(str):\n",
    "    words = str.split()\n",
    "    rev_words = words[::-1]\n",
    "    rev_str = ' '.join(rev_words)\n",
    "    return rev_str\n",
    "str = input()\n",
    "print(Reverseword(str))"
   ]
  },
  {
   "cell_type": "markdown",
   "metadata": {},
   "source": [
    "11. Question \n",
    "The function accepts two positive integers ‘r’ and ‘unit’ and a positive integer array ‘arr’ of size ‘n’ as its argument ‘r’ represents the number of rats present in an area, ‘unit’ is the amount of food each rat consumes and each ith element of array ‘arr’ represents the amount of food present in ‘i+1’ house number, where 0 <= i. \n",
    "Note: \n",
    "1. Return -1 if the array is null \n",
    "2. Return 0 if the total amount of food from all houses is not sufficient for all the rats. \n",
    "3. Computed values lie within the integer range. \n",
    "Example: \n",
    "Input: \n",
    "r: 7 \n",
    "unit: 2 \n",
    "n: 8 \n",
    "arr: 2 8 3 5 7 4 1 2 \n",
    "Output: \n",
    "4 \n",
    "Explanation: \n",
    "Total amount of food required for all rats = r unit \n",
    "= 7 2 = 14. \n",
    "The amount of food in 1st houses = 2+8+3+5 = 18. Since, the amount of food in 1st 4 houses is sufficient for all the rats. Thus, output is 4."
   ]
  },
  {
   "cell_type": "code",
   "execution_count": 6,
   "metadata": {},
   "outputs": [
    {
     "name": "stdout",
     "output_type": "stream",
     "text": [
      "4\n"
     ]
    }
   ],
   "source": [
    "def RatHouse(r, unit, n, arr):\n",
    "    if n == 0:\n",
    "        return -1\n",
    "    food_till_now = 0\n",
    "    food_required = r*unit\n",
    "    house_count = 0\n",
    "    for house_count in range (n):\n",
    "        food_till_now += arr[house_count] \n",
    "        if food_till_now >= food_required:\n",
    "            break \n",
    "    if food_required > food_till_now:\n",
    "        return 0\n",
    "    return house_count + 1\n",
    "r = int(input())\n",
    "unit = int(input())\n",
    "n = int(input())\n",
    "arr = list(map(int, input().split()))\n",
    "print(RatHouse(r, unit, n, arr))\n"
   ]
  },
  {
   "cell_type": "markdown",
   "metadata": {},
   "source": [
    "12. QUESTION \n",
    "You are given a function, int findCount(int arr[], int length, int num, int diff); The function accepts an integer array ‘arr’, its length and two integer variables ‘num’ and ‘diff’. Implement this function to find and return the number of elements of ‘arr’ having an absolute difference of less than or equal to ‘diff’ with ‘num’. \n",
    "Note: In case there is no element in ‘arr’ whose absolute difference with ‘num’ is less than or equal to ‘diff’,return -1. \n",
    "Example: \n",
    "Input: \n",
    "arr: 12 3 14 56 77 13 \n",
    "num: 13 \n",
    "diff: 2 \n",
    "Output: \n",
    "3 \n",
    "Explanation: \n",
    "Elements of ‘arr’ having absolute difference of less than or equal to ‘diff’ i.e. 2 with ‘num’ i.e. 13 are 12, 13 and 14."
   ]
  },
  {
   "cell_type": "code",
   "execution_count": 7,
   "metadata": {},
   "outputs": [
    {
     "name": "stdout",
     "output_type": "stream",
     "text": [
      "3\n"
     ]
    }
   ],
   "source": [
    "def findCount(arr, num, diff):\n",
    "    if len(arr) == 0:\n",
    "        return -1\n",
    "    count = 0\n",
    "    for i in arr:\n",
    "        if abs(i-num) <= diff:\n",
    "            count += 1\n",
    "    return count\n",
    "arr = list(map(int, input().split()))\n",
    "num = int(input())\n",
    "diff = int(input())\n",
    "print(findCount(arr, num, diff))"
   ]
  }
 ],
 "metadata": {
  "kernelspec": {
   "display_name": "Python 3",
   "language": "python",
   "name": "python3"
  },
  "language_info": {
   "codemirror_mode": {
    "name": "ipython",
    "version": 3
   },
   "file_extension": ".py",
   "mimetype": "text/x-python",
   "name": "python",
   "nbconvert_exporter": "python",
   "pygments_lexer": "ipython3",
   "version": "3.11.3"
  }
 },
 "nbformat": 4,
 "nbformat_minor": 2
}
