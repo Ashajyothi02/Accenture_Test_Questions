{
 "cells": [
  {
   "cell_type": "markdown",
   "metadata": {},
   "source": [
    "13. DECODE \n",
    "N-base notation is a system for writing numbers that uses only n different symbols, This symbols are the first n symbols from the given notation list(Including the symbol for o) Decimal to n base notation are (0:0, 1:1, 2:2, 3:3, 4:4, 5:5, 6:6, 7:7, 8:8, 9:9, 10:A,11:B and so on upto 35:Z). Implement the following function char DectoNBase(int n, int num):* The function accept positive integer n and num Implement the function to calculate the n-base equivalent of num and return the same as a string \n",
    "Steps: \n",
    "Divide the decimal number by n,Treat the division as the integer division \n",
    "Write the the remainder (in n-base notation) \n",
    "Divide the quotient again by n, Treat the division as integer division \n",
    "Repeat step 2 and 3 until the quotient is 0 \n",
    "The n-base value is the sequence of the remainders from last to first \n",
    "Assumption: \n",
    "1 < n < = 36 \n",
    " Example \n",
    "Input \n",
    "n: 12 \n",
    "num: 718 \n",
    "Output \n",
    "4BA \n",
    "Explanation \n",
    "num = 718, divisor = 12, quotient=59, remainder=10(A). \n",
    "num = 59, divisor = 12, quotient=4, remainder=11(B). \n",
    "num = 4, divisor = 12, quotient=0, remainder=4(A)."
   ]
  },
  {
   "cell_type": "code",
   "execution_count": 5,
   "metadata": {},
   "outputs": [
    {
     "name": "stdout",
     "output_type": "stream",
     "text": [
      "4BA\n"
     ]
    }
   ],
   "source": [
    "def DectoNBase(n, num):\n",
    "    notation = \"0123456789ABCDEFGHIJKLMNOPQRSTUVWXYZ\"\n",
    "    result = \"\"\n",
    "    while num > 0:\n",
    "        remainder = num % n\n",
    "        result = notation[remainder] + result\n",
    "        num = num // n\n",
    "    return result\n",
    "n = int(input())\n",
    "num = int(input())\n",
    "print(DectoNBase(n, num))"
   ]
  },
  {
   "cell_type": "markdown",
   "metadata": {},
   "source": [
    "14. MATRIX EVEN ODD \n",
    "You are required to input the size of the matrix then the elements of matrix, then you have to divide the main matrix in two sub matrices (even and odd) in such a way that element at 0 index will be considered as even and element at 1st index will be considered as odd and so on. Then you have sort the even and odd matrices in ascending order and print the sum of second largest number from both the matrices. \n",
    "Example \n",
    "enter the size of array : 5 \n",
    "enter element at 0 index : 3 \n",
    "enter element at 1 index : 4 \n",
    "enter element at 2 index : 1 \n",
    "enter element at 3 index : 7 \n",
    "enter element at 4 index : 9 \n",
    "Sorted even array : 1 3 9 \n",
    "Sorted odd array : 4 7 \n",
    "Sum = 7"
   ]
  },
  {
   "cell_type": "code",
   "execution_count": 9,
   "metadata": {},
   "outputs": [
    {
     "name": "stdout",
     "output_type": "stream",
     "text": [
      "7\n"
     ]
    }
   ],
   "source": [
    "n = int(input())\n",
    "arr = list(map(int,input().split()))\n",
    "even_arr = []\n",
    "odd_arr = []\n",
    "for i in range(n):\n",
    "    if i%2==0:\n",
    "        even_arr.append(arr[i])\n",
    "    else:\n",
    "        odd_arr.append(arr[i])\n",
    "even_arr.sort()\n",
    "odd_arr.sort()\n",
    "sum = even_arr[-2]+odd_arr[-2]\n",
    "print(sum)"
   ]
  },
  {
   "cell_type": "markdown",
   "metadata": {},
   "source": [
    "15. MATHS IS FUN \n",
    "You are required to implement the following function: int Calculate(int m, int n); The function accepts 2 positive integers ‘m’ and ‘n’ as its arguments.You are required to calculate the sum of numbers divisible both by 3 and 5, between ‘m’ and ‘n’ both inclusive and return the same. \n",
    "Note \n",
    "0 < m <= n \n",
    "Example \n",
    "Input: \n",
    "m : 12 \n",
    "n : 50 \n",
    "Output \n",
    "90 \n",
    "Explanation: \n",
    "The numbers divisible by both 3 and 5, between 12 and 50 both inclusive are {15, 30, 45} and their sum is 90. \n",
    "Sample Input \n",
    "m : 100 \n",
    "n : 160 \n",
    "Sample Output \n",
    "510"
   ]
  },
  {
   "cell_type": "code",
   "execution_count": 11,
   "metadata": {},
   "outputs": [
    {
     "name": "stdout",
     "output_type": "stream",
     "text": [
      "90\n"
     ]
    }
   ],
   "source": [
    "def Calculate(m,n):\n",
    "    sum = 0\n",
    "    for i in range(m,n+1):\n",
    "        if i%3==0 and i%5== 0:\n",
    "            sum += i\n",
    "    return sum\n",
    "m = int(input())\n",
    "n = int(input())\n",
    "print(Calculate(m,n))"
   ]
  },
  {
   "cell_type": "markdown",
   "metadata": {},
   "source": [
    "16. Write a program to find the length of the longest common subsequence between two strings."
   ]
  },
  {
   "cell_type": "code",
   "execution_count": 13,
   "metadata": {},
   "outputs": [
    {
     "name": "stdout",
     "output_type": "stream",
     "text": [
      "4\n"
     ]
    }
   ],
   "source": [
    "def lcs(str1, str2):\n",
    "    m = len(str1)\n",
    "    n = len(str2)\n",
    "    dp = [[0]*(n+1) for _ in range(m+1)]\n",
    "    for i in range(1, m+1):\n",
    "        for j in range(1, n+1):\n",
    "            if str1[i-1] == str2[j-1]:\n",
    "                dp[i][j] = dp[i-1][j-1] + 1\n",
    "            else:\n",
    "                dp[i][j] = max(dp[i-1][j], dp[i][j-1])\n",
    "    return dp[m][n]\n",
    "str1 = input()\n",
    "str2 = input()\n",
    "print(lcs(str1, str2))"
   ]
  },
  {
   "cell_type": "code",
   "execution_count": 15,
   "metadata": {},
   "outputs": [
    {
     "name": "stdout",
     "output_type": "stream",
     "text": [
      "4\n"
     ]
    }
   ],
   "source": [
    "def lcs(S1, S2, m, n):\n",
    "    if m == 0 or n == 0:\n",
    "        return 0\n",
    "    if S1[m - 1] == S2[n - 1]:\n",
    "        return 1 + lcs(S1, S2, m - 1, n - 1)\n",
    "    else:\n",
    "        return max(lcs(S1, S2, m, n - 1), lcs(S1, S2, m - 1, n))\n",
    "S1 = input()\n",
    "S2 = input()\n",
    "m = len(S1)\n",
    "n = len(S2)\n",
    "print(lcs(S1, S2, m, n))\n"
   ]
  }
 ],
 "metadata": {
  "kernelspec": {
   "display_name": "Python 3",
   "language": "python",
   "name": "python3"
  },
  "language_info": {
   "codemirror_mode": {
    "name": "ipython",
    "version": 3
   },
   "file_extension": ".py",
   "mimetype": "text/x-python",
   "name": "python",
   "nbconvert_exporter": "python",
   "pygments_lexer": "ipython3",
   "version": "3.11.3"
  }
 },
 "nbformat": 4,
 "nbformat_minor": 2
}
