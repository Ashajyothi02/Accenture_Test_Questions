{
 "cells": [
  {
   "cell_type": "markdown",
   "metadata": {},
   "source": [
    "21. Financial Dataset\n",
    "\n",
    "You are working on a financial analyzing tool which represents the daily stock prices of a company over a time. Each element in an integer array A of size N represents the closing price of the stock for a particular day. Your task is to find and return an integer value A representing the total number of days where the stock price decreased, indicating negative growth.\n",
    "\n",
    "Input Specification:\n",
    "\n",
    "Input1: An integer array A containing the closing price of the stock. Input2: An integer value N representing the size of array\n",
    "\n",
    "Output Specification:\n",
    "\n",
    "Return an integer value representing the total number of days where the stock price decreased, indicating negative growth.\n",
    "\n",
    "Example 1:\n",
    "\n",
    "Input1: 3 5 6 -7 9 10 -12\n",
    "\n",
    "Input2:7\n",
    "\n",
    "Output: 2"
   ]
  },
  {
   "cell_type": "code",
   "execution_count": 19,
   "metadata": {},
   "outputs": [
    {
     "name": "stdout",
     "output_type": "stream",
     "text": [
      "2\n"
     ]
    }
   ],
   "source": [
    "def financial_dataset(arr,n):\n",
    "    count = 0\n",
    "    for i in arr:\n",
    "       if i<0:\n",
    "          count += 1\n",
    "    return count\n",
    "arr = list(map(int, input().split()))\n",
    "n = int(input())\n",
    "print(financial_dataset(arr,n))"
   ]
  },
  {
   "cell_type": "markdown",
   "metadata": {},
   "source": [
    "22. Magical Number\n",
    "\n",
    "You are given a program to find the count of magical numbers from 1 to N. A magical number is defined by the following criteria:\n",
    "\n",
    "Convert each number in the range 1 to N (inclusive) to its binary representation.\n",
    "\n",
    "Replace 10 with \"1\" and \"1\" with 2 in the binary string.\n",
    "\n",
    "Calculate the sum of the digits in the modified binary string. If the resultant number is odd, then it is considered a magical number.\n",
    "\n",
    "Your task is to find and return an integer value representing the count of the magical numbers present within the given range.\n",
    "\n",
    "Input Specification:\n",
    "\n",
    "Input1: An integer value N representing the range of numbers.\n",
    "\n",
    "Output Specification:\n",
    "\n",
    "Return an integer value representing the count of magical numbers present within the range\n",
    "\n",
    "Example 1:\n",
    "\n",
    "input1:2\n",
    "output:1"
   ]
  },
  {
   "cell_type": "code",
   "execution_count": 26,
   "metadata": {},
   "outputs": [
    {
     "name": "stdout",
     "output_type": "stream",
     "text": [
      "1\n"
     ]
    }
   ],
   "source": [
    "def magical_number(n):\n",
    "    count=0\n",
    "    for i in range(1,n+1):\n",
    "        bstr = bin(i)[2:]\n",
    "        mstr = bstr.replace(\"1\",\"2\").replace(\"0\",\"1\")\n",
    "        sum=0\n",
    "        for j in mstr:\n",
    "            sum += int(j)\n",
    "        if sum%2 != 0:\n",
    "            count += 1\n",
    "    return count\n",
    "n = int(input())\n",
    "print(magical_number(n))"
   ]
  },
  {
   "cell_type": "markdown",
   "metadata": {},
   "source": [
    "23. Rock, Paper, Scissors \n",
    "\n",
    "Two players A and B, are playing the game of Rock, Paper, Scissors. Player A chooses a move represented by a string value M: and the move can be one of the following: 'rock', 'paper', or 'scissors where\n",
    "\n",
    "rock beats scissors\n",
    "\n",
    "scissors beats paper\n",
    "\n",
    "paper beats rock\n",
    "\n",
    "Your task is to find and return a string value representing the winning move for Player B\n",
    "\n",
    "Note: The output is case sensitive\n",
    "\n",
    "Input Specification:\n",
    "\n",
    "Input1: A string value M representing the move chosen by Player A\n",
    "\n",
    "Output Specification: A string value representing the winning move for Player B\n",
    "\n",
    "Example:\n",
    "Input: rock\n",
    "Output: paper"
   ]
  },
  {
   "cell_type": "code",
   "execution_count": 28,
   "metadata": {},
   "outputs": [
    {
     "name": "stdout",
     "output_type": "stream",
     "text": [
      "paper\n"
     ]
    }
   ],
   "source": [
    "def winning_move(m):\n",
    "    if m == \"rock\":\n",
    "        return \"paper\"\n",
    "    elif m == \"scissors\":\n",
    "        return \"rock\"\n",
    "    elif m == \"paper\":\n",
    "        return \"scissors\"\n",
    "    else:\n",
    "        return \"Invalid move\"\n",
    "m = input()  \n",
    "print(winning_move(m))  \n"
   ]
  },
  {
   "cell_type": "markdown",
   "metadata": {},
   "source": [
    "24. Refueling Vehicles\n",
    "\n",
    "You are incharge of a convoy of N vehicles, each with fuel meter which shows the fuel present in each vehicle in litres. Each vehicles need to travel a distance of X kilometers. If the fuel becomes empty before reaching X kilometers the vehicle can refuel but the refueling will be of X litres and if the vehicles completes the X kilometers where fuel is left over then the extra fuel will be given to the next vehicle in the convoy. You must rearrange the convoy such that the vehicles take minimum refueling stops. Am Your task is to find and return an integer value representing the mhum number of refueling stops required by the convoy of vehicles.\n",
    "\n",
    "Note\n",
    "\n",
    "The vehicles can go 1 kilometer in a single litre.\n",
    "\n",
    "The refueling at any point of time will be for X litres only\n",
    "\n",
    "Input Specification:\n",
    " input: An integer value X. representing the distance to be travelled.\n",
    "\n",
    "Input2: An integer value N, representing the number of vehicles in the convoy.\n",
    "\n",
    "Example:\n",
    "Input: X = 10, N = 3, Fuel levels = [5 8 3]\n",
    "Output: 2"
   ]
  },
  {
   "cell_type": "code",
   "execution_count": 30,
   "metadata": {},
   "outputs": [
    {
     "name": "stdout",
     "output_type": "stream",
     "text": [
      "2\n"
     ]
    }
   ],
   "source": [
    "def refueling_vehicles(x,n,flevels):\n",
    "    flevels.sort(reverse=True)\n",
    "    rfstops = 0\n",
    "    for i in range(n):\n",
    "        if flevels[i] < x:\n",
    "            rfstops += 1\n",
    "            flevels[i] += x\n",
    "        if i < n - 1:\n",
    "            flevels[i + 1] += flevels[i] - x\n",
    "    return rfstops\n",
    "x = int(input())\n",
    "n = int(input())\n",
    "flevels = list(map(int,input().split()))\n",
    "print(refueling_vehicles(x,n,flevels))"
   ]
  }
 ],
 "metadata": {
  "kernelspec": {
   "display_name": "Python 3",
   "language": "python",
   "name": "python3"
  },
  "language_info": {
   "codemirror_mode": {
    "name": "ipython",
    "version": 3
   },
   "file_extension": ".py",
   "mimetype": "text/x-python",
   "name": "python",
   "nbconvert_exporter": "python",
   "pygments_lexer": "ipython3",
   "version": "3.11.3"
  }
 },
 "nbformat": 4,
 "nbformat_minor": 2
}
