{
 "cells": [
  {
   "cell_type": "markdown",
   "metadata": {},
   "source": [
    "17. Write a program to find the length of the longest palindrome \n",
    "subsequence in a string."
   ]
  },
  {
   "cell_type": "code",
   "execution_count": 2,
   "metadata": {},
   "outputs": [
    {
     "name": "stdout",
     "output_type": "stream",
     "text": [
      "7\n"
     ]
    }
   ],
   "source": [
    "def lps(str):\n",
    "    n = len(str)\n",
    "    dp = [[0] * n for _ in range(n)]\n",
    "    for i in range(n):\n",
    "        dp[i][i] = 1\n",
    "    for cl in range(2, n + 1):\n",
    "        for i in range(n - cl + 1):\n",
    "            j = i + cl - 1\n",
    "            if str[i] == str[j] and cl == 2:\n",
    "                dp[i][j] = 2\n",
    "            elif str[i] == str[j]:\n",
    "                dp[i][j] = dp[i + 1][j - 1] + 2\n",
    "            else:\n",
    "                dp[i][j] = max(dp[i + 1][j], dp[i][j - 1])\n",
    "    return dp[0][n - 1]\n",
    "str = input()\n",
    "print(lps(str))"
   ]
  },
  {
   "cell_type": "markdown",
   "metadata": {},
   "source": [
    "18. Write a program to find all permutations of a string."
   ]
  },
  {
   "cell_type": "code",
   "execution_count": 6,
   "metadata": {},
   "outputs": [
    {
     "name": "stdout",
     "output_type": "stream",
     "text": [
      "why\n",
      "wyh\n",
      "hwy\n",
      "hyw\n",
      "ywh\n",
      "yhw\n"
     ]
    }
   ],
   "source": [
    "from itertools import permutations\n",
    "def all_permutations(str):\n",
    "    perms = permutations(str)\n",
    "    perm_list = [''.join(p) for p in perms]\n",
    "    return perm_list\n",
    "str = input(\"Enter the string: \")\n",
    "perms = all_permutations(str)\n",
    "for perm in perms:\n",
    "    print(perm)\n"
   ]
  },
  {
   "cell_type": "markdown",
   "metadata": {},
   "source": [
    "19. SMALLEST PRODUCT \n",
    "def ProductSmallestPair(sum, arr) \n",
    "The function accepts an integers sum and an integer array arr of size n. Implement the function to find the pair, (arr[j], arr[k]) where j!=k, Such that arr[j] and arr[k] are the least two elements of array (arr[j] + arr[k] <= sum) and return the product of element of this pair \n",
    "NOTE \n",
    "Return -1 if array is empty or if n<2 \n",
    "Return 0, if no such pairs found \n",
    "All computed values lie within integer range \n",
    " \n",
    "Example \n",
    "Input \n",
    "sum:9 \n",
    "size of Arr = 7 \n",
    "Arr:5 2 4 3 9 7 1 \n",
    "Output \n",
    "2 \n",
    "Explanation \n",
    "Pair of least two element is (2, 1) 2 + 1 = 3 < 9, Product of (2, 1) 2*1 = 2. Thus, output is 2 \n",
    "Sample Input \n",
    "sum:4 \n",
    "size of Arr = 6 \n",
    "Arr:9 8 3 -7 3 9 \n",
    "Sample Output -21"
   ]
  },
  {
   "cell_type": "code",
   "execution_count": 7,
   "metadata": {},
   "outputs": [
    {
     "name": "stdout",
     "output_type": "stream",
     "text": [
      "-21\n"
     ]
    }
   ],
   "source": [
    "def ProductSmallestPair(sum,n,arr):\n",
    "    arr = sorted(arr)\n",
    "    if(n==0 or n<2):\n",
    "        return -1\n",
    "    elif(arr[0]+arr[1]<=sum):\n",
    "        return arr[0]*arr[1]\n",
    "    else:\n",
    "        return 0\n",
    "sum = int(input())\n",
    "n = int(input())\n",
    "arr = list(map(int,input().split()))\n",
    "print(ProductSmallestPair(sum,n,arr))"
   ]
  },
  {
   "cell_type": "markdown",
   "metadata": {},
   "source": [
    "20. MOVES \n",
    "char*MoveHyphen(char str[],int n); \n",
    "The function accepts a string “str” of length ‘n’, that contains alphabets and hyphens (-). Implement the function to move all hyphens(-) in the string to the front of the given string. \n",
    "NOTE:- Return null if str is null. \n",
    "Example :- \n",
    "Input: str.Move-Hyphens-to-Front \n",
    "Output: —MoveHyphenstoFront \n",
    "Explanation:- \n",
    "The string “Move-Hyphens -to-front” has 3 hyphens (-), which are moved to the front of the string, this output is “— MoveHyphen” \n",
    "Sample Input \n",
    "Str: String-Compare \n",
    "Sample Output- -StringCompare"
   ]
  },
  {
   "cell_type": "code",
   "execution_count": 9,
   "metadata": {},
   "outputs": [
    {
     "name": "stdout",
     "output_type": "stream",
     "text": [
      "-stringcompare\n"
     ]
    }
   ],
   "source": [
    "str = input()\n",
    "count = 0\n",
    "string = \"\"\n",
    "for i in str:\n",
    "    if i == \"-\":\n",
    "        count += 1\n",
    "    else:\n",
    "        string += i\n",
    "print(\"-\"*count+string)"
   ]
  }
 ],
 "metadata": {
  "kernelspec": {
   "display_name": "Python 3",
   "language": "python",
   "name": "python3"
  },
  "language_info": {
   "codemirror_mode": {
    "name": "ipython",
    "version": 3
   },
   "file_extension": ".py",
   "mimetype": "text/x-python",
   "name": "python",
   "nbconvert_exporter": "python",
   "pygments_lexer": "ipython3",
   "version": "3.11.3"
  }
 },
 "nbformat": 4,
 "nbformat_minor": 2
}
