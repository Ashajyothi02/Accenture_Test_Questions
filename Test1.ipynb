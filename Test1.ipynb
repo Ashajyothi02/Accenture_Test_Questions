{
 "cells": [
  {
   "cell_type": "markdown",
   "metadata": {},
   "source": [
    "You are required to implement the following Function \n",
    "\n",
    "def LargeSmallSum(arr)\n",
    "\n",
    "The function accepts an integers arr of size ’length’ as its arguments you are required to return the sum of second largest  element from the even positions and second smallest from the odd position of given ‘arr’\n",
    "\n",
    "Assumption:\n",
    "All array elements are unique\n",
    "Treat the 0th position as even\n",
    "\n",
    "NOTE\n",
    "Return 0 if array is empty\n",
    "Return 0, if array length is 3 or less than 3\n",
    "\n",
    "Example\n",
    "Input\n",
    "arr:3 2 1 7 5 4\n",
    "Output\n",
    "7\n",
    "\n",
    "Explanation\n",
    "Second largest among even position elements(1 3 5) is 3\n",
    "Second smallest among odd position element is 4\n",
    "Thus output is 3+4 = 7\n",
    "\n",
    "Sample Input\n",
    "arr:1 8 0 2 3 5 6\n",
    "Sample Output\n",
    "8"
   ]
  },
  {
   "cell_type": "code",
   "execution_count": 1,
   "metadata": {},
   "outputs": [
    {
     "name": "stdout",
     "output_type": "stream",
     "text": [
      "7\n"
     ]
    }
   ],
   "source": [
    "length = int(input())\n",
    "arr = list(map(int, input().split()))\n",
    "even_arr = []\n",
    "odd_arr = []\n",
    "for i in range(length):\n",
    "    if i%2==0:\n",
    "        even_arr.append(arr[i])\n",
    "    else:\n",
    "        odd_arr.append(arr[i])\n",
    "even_arr = sorted(even_arr)\n",
    "odd_arr = sorted(odd_arr)\n",
    "print(even_arr[-2]+odd_arr[-2])"
   ]
  },
  {
   "cell_type": "markdown",
   "metadata": {},
   "source": [
    "You are given a function.\n",
    "int CheckPassword(char str[], int n);\n",
    "\n",
    "The function accepts string str of size n as an argument. Implement the function which returns 1 if given string str is valid password else 0.\n",
    "str is a valid password if it satisfies the below conditions.\n",
    "– At least 4 characters\n",
    "– At least one numeric digit\n",
    "– At Least one Capital Letter\n",
    "– Must not have space or slash (/)\n",
    "– Starting character must not be a number\n",
    "\n",
    "Assumption:\n",
    "Input string will not be empty.\n",
    "\n",
    "Example:\n",
    "\n",
    "Input 1:\n",
    "aA1_67\n",
    "Input 2:\n",
    "a987 abC012\n",
    "\n",
    "Output 1:\n",
    "1\n",
    "Output 2:\n",
    "0"
   ]
  },
  {
   "cell_type": "code",
   "execution_count": 6,
   "metadata": {},
   "outputs": [
    {
     "name": "stdout",
     "output_type": "stream",
     "text": [
      "1\n"
     ]
    }
   ],
   "source": [
    "def CheckPassword(str,n):\n",
    "    if n<4:\n",
    "        return 0\n",
    "    if str[0] == \" \":\n",
    "        return 0\n",
    "    cap = 0\n",
    "    num = 0\n",
    "    for i in range(n):\n",
    "        if str[i]>='A' and str[i]<='Z':\n",
    "            cap += 1\n",
    "        if str[i] == \" \" or str[i] == \"/\":\n",
    "            return 0\n",
    "        elif str[i].isdigit():\n",
    "            num += 1\n",
    "    if cap > 0 and num > 0:\n",
    "        return 1\n",
    "    else:\n",
    "        return 0\n",
    "str = input()\n",
    "n = len(str)\n",
    "print(CheckPassword(str,n))"
   ]
  },
  {
   "cell_type": "markdown",
   "metadata": {},
   "source": [
    "Problem Description :\n",
    "The Binary number system only uses two digits, 0 and 1 and number system can be called binary string. You are required to implement the following function:\n",
    "\n",
    "int OperationsBinaryString(char* str);\n",
    "\n",
    "The function accepts a string str as its argument. The string str consists of binary digits separated with an alphabet as follows:\n",
    "– A denotes AND operation\n",
    "– B denotes OR operation\n",
    "– C denotes XOR Operation\n",
    "You are required to calculate the result of the string str, scanning the string to right taking one operation at a time, and return the same.\n",
    "\n",
    "Note:\n",
    "No order of priorities of operations is required\n",
    "Length of str is odd\n",
    "If str is NULL or None (in case of Python), return -1\n",
    "Input:\n",
    "str: 1C0C1C1A0B1\n",
    "\n",
    "Output:\n",
    "1\n",
    "\n",
    "Explanation:\n",
    "The alphabets in str when expanded becomes “1 XOR 0 XOR 1 XOR 1 AND 0 OR 1”, result of the expression becomes 1, hence 1 is returned.\n",
    "\n",
    "Sample Input:\n",
    "0C1A1B1C1C1B0A0\n",
    "\n",
    "Output:\n",
    "0"
   ]
  },
  {
   "cell_type": "code",
   "execution_count": 5,
   "metadata": {},
   "outputs": [
    {
     "name": "stdout",
     "output_type": "stream",
     "text": [
      "0\n"
     ]
    }
   ],
   "source": [
    "def OperationsBinaryString(str):\n",
    "    a = int(str[0])\n",
    "    i=1\n",
    "    while i<len(str):\n",
    "        if str[i] == 'A':\n",
    "            a &= int(str[i+1])\n",
    "        elif str[i] == 'B':\n",
    "            a |= int(str[i+1])\n",
    "        else:\n",
    "            a ^= int(str[i+1])\n",
    "        i += 2\n",
    "    return a\n",
    "    \n",
    "str = input()\n",
    "print(OperationsBinaryString(str))"
   ]
  },
  {
   "cell_type": "markdown",
   "metadata": {},
   "source": [
    " Find Maximum In An Array \n",
    "Write a function FindMaxInArray, which will find the greatest number \n",
    "from an array with its desired index? The greatest number and its \n",
    "desired index should be printed in separate lines. \n",
    "Sample Test Case:\n",
    "Input: \n",
    "10 \n",
    "15 78 96 17 20 65 14 36 18 20 \n",
    "Output: \n",
    "96 \n",
    "2"
   ]
  },
  {
   "cell_type": "code",
   "execution_count": 2,
   "metadata": {},
   "outputs": [
    {
     "name": "stdout",
     "output_type": "stream",
     "text": [
      "96\n",
      "2\n"
     ]
    }
   ],
   "source": [
    "def FindMaxInArray(arr):\n",
    "    max_val = max(arr)\n",
    "    max_ind = arr.index(max_val)\n",
    "    print(max_val)\n",
    "    print(max_ind)\n",
    "n = int(input())\n",
    "arr = list(map(int, input().split()))\n",
    "FindMaxInArray(arr)\n"
   ]
  }
 ],
 "metadata": {
  "kernelspec": {
   "display_name": "Python 3",
   "language": "python",
   "name": "python3"
  },
  "language_info": {
   "codemirror_mode": {
    "name": "ipython",
    "version": 3
   },
   "file_extension": ".py",
   "mimetype": "text/x-python",
   "name": "python",
   "nbconvert_exporter": "python",
   "pygments_lexer": "ipython3",
   "version": "3.11.3"
  }
 },
 "nbformat": 4,
 "nbformat_minor": 2
}
